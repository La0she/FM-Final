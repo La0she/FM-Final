{
 "cells": [
  {
   "cell_type": "code",
   "execution_count": 3,
   "id": "8ef30bc0-b49e-47ef-b485-e5e4ccde7c2b",
   "metadata": {},
   "outputs": [],
   "source": [
    "#  Import required libraries\n",
    "import tushare as ts\n",
    "\n",
    "ts.set_token('your_token')\n",
    "pro = ts.pro_api()\n",
    "\n",
    "\n",
    "# Select SSE 50ETF options with strikes at 2.75 (call) and 2.40 (put)\n",
    "premium_K1 = pro.opt_daily(ts_code='10009222.SH', trade_date='20250613')['close'].values[0]  # Call (2.75)\n",
    "premium_K2 = pro.opt_daily(ts_code='10008802.SH', trade_date='20250613')['close'].values[0]  # Put (2.40)\n",
    "\n",
    "\n"
   ]
  },
  {
   "cell_type": "code",
   "execution_count": 6,
   "id": "c295c7b0-aa69-45e1-917e-e59dfc1e8c59",
   "metadata": {},
   "outputs": [
    {
     "name": "stdout",
     "output_type": "stream",
     "text": [
      "Premium for Call (2.75): 0.1285\n",
      "Premium for Put (2.40): 0.0089\n"
     ]
    }
   ],
   "source": [
    "Print premiums for verification\n",
    "print(f\"Premium for Call (2.75): {premium_K1}\")\n",
    "print(f\"Premium for Put (2.40): {premium_K2}\")"
   ]
  },
  {
   "cell_type": "code",
   "execution_count": 7,
   "id": "e070204b-6a9d-4f67-ad2c-b22f051ccff4",
   "metadata": {},
   "outputs": [],
   "source": [
    "# --- Define model parameters ---\n",
    "\n",
    "# Option strikes\n",
    "K1 = 2.75  # Call strike\n",
    "K2 = 2.40  # Put strike\n"
   ]
  },
  {
   "cell_type": "code",
   "execution_count": 8,
   "id": "0035467f-70d8-4311-8605-f5740c8585e7",
   "metadata": {},
   "outputs": [],
   "source": [
    "# Calculate net premium cost\n",
    "net_premium = premium_K1 - premium_K2\n",
    "\n",
    "\n",
    "#  Define market scenarios\n",
    "scenarios = {'Bull': 2.90, 'Base': 2.75, 'Bear': 2.40}\n",
    "\n"
   ]
  },
  {
   "cell_type": "code",
   "execution_count": 9,
   "id": "37ee5a72-00ec-4f43-a0a7-cb32ae1b1a62",
   "metadata": {},
   "outputs": [
    {
     "name": "stdout",
     "output_type": "stream",
     "text": [
      "\n",
      "Scenario Analysis:\n",
      "Bull scenario (Price=2.9): Payoff = 0.030 ¥\n",
      "Base scenario (Price=2.75): Payoff = -0.120 ¥\n",
      "Bear scenario (Price=2.4): Payoff = -0.120 ¥\n"
     ]
    }
   ],
   "source": [
    "# Calculate option payoffs ---\n",
    "\n",
    "\n",
    "print(\"\\nScenario Analysis:\")\n",
    "\n",
    "\n",
    "for name, S in scenarios.items():\n",
    "    # Формула выплаты | Payoff formula\n",
    "    # Колл-опцион приносит прибыль, если цена выше страйка K1\n",
    "    # Call option generates profit if price exceeds strike K1\n",
    "    # Пут-опцион приносит прибыль, если цена ниже страйка K2\n",
    "    # Put option generates profit if price falls below strike K2\n",
    "    payoff = max(S - K1, 0) - max(K2 - S, 0) - net_premium\n",
    "    \n",
    "    # Выводим результаты | Print results\n",
    "    print(f\"{name} scenario (Price={S}): Payoff = {payoff:.3f} ¥\")"
   ]
  },
  {
   "cell_type": "code",
   "execution_count": 13,
   "id": "26a79e8f-aea1-4a2c-ad90-e0be9344f42f",
   "metadata": {},
   "outputs": [],
   "source": [
    "# -----------------------------------------------------------"
   ]
  }
 ],
 "metadata": {
  "kernelspec": {
   "display_name": "Python 3 (ipykernel)",
   "language": "python",
   "name": "python3"
  },
  "language_info": {
   "codemirror_mode": {
    "name": "ipython",
    "version": 3
   },
   "file_extension": ".py",
   "mimetype": "text/x-python",
   "name": "python",
   "nbconvert_exporter": "python",
   "pygments_lexer": "ipython3",
   "version": "3.12.0"
  }
 },
 "nbformat": 4,
 "nbformat_minor": 5
}
