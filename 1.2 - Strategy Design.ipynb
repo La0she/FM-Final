{
 "cells": [
  {
   "cell_type": "markdown",
   "id": "d38310af-36db-42a3-9ef0-8c4c9d45ce23",
   "metadata": {},
   "source": [
    "## 1. Market analysis"
   ]
  },
  {
   "cell_type": "code",
   "execution_count": 1,
   "id": "93bc6091-1073-42e4-a047-f6b4570cdf91",
   "metadata": {},
   "outputs": [
    {
     "name": "stdout",
     "output_type": "stream",
     "text": [
      "Historical Volatility: nan\n"
     ]
    }
   ],
   "source": [
    "import tushare as ts\n",
    "import numpy as np\n",
    "\n",
    "ts.set_token('22a806f7d2672cf0a944da75699ed791d185feebc698cdda32d180c9')\n",
    "pro = ts.pro_api()\n",
    "\n",
    "# Загружаем данные SSE 50ETF\n",
    "df = pro.daily(ts_code='510050.SH', start_date='20250101', end_date='20250613')\n",
    "\n",
    "# Рассчитываем доходности\n",
    "df['returns'] = df['close'].pct_change()\n",
    "\n",
    "# Вычисляем историческую волатильность (стандартное отклонение)\n",
    "hv = np.std(df['returns']) * np.sqrt(252)  # Годовая волатильность\n",
    "print(f\"Historical Volatility: {hv:.2f}\")"
   ]
  },
  {
   "cell_type": "code",
   "execution_count": 2,
   "id": "8a90c43b-5eb7-457e-9fe6-7f119f9e2459",
   "metadata": {},
   "outputs": [
    {
     "name": "stdout",
     "output_type": "stream",
     "text": [
      "Empty DataFrame\n",
      "Columns: [trade_date, close]\n",
      "Index: []\n"
     ]
    }
   ],
   "source": [
    "print(df[['trade_date', 'close']].head())  \n"
   ]
  },
  {
   "cell_type": "code",
   "execution_count": 3,
   "id": "0aa17329-0bbe-4749-b4c3-15518722dd0a",
   "metadata": {},
   "outputs": [
    {
     "name": "stdout",
     "output_type": "stream",
     "text": [
      "YF.download() has changed argument auto_adjust default to True\n"
     ]
    },
    {
     "name": "stderr",
     "output_type": "stream",
     "text": [
      "[*********************100%***********************]  1 of 1 completed\n"
     ]
    }
   ],
   "source": [
    "import yfinance as yf\n",
    "df = yf.download('510050.SS', start='2025-01-01', end='2025-06-13')\n"
   ]
  },
  {
   "cell_type": "code",
   "execution_count": 5,
   "id": "5d7e4907-961a-41f4-8127-f9f66ffbbdec",
   "metadata": {},
   "outputs": [
    {
     "name": "stdout",
     "output_type": "stream",
     "text": [
      "MultiIndex([( 'Close', '510050.SS'),\n",
      "            (  'High', '510050.SS'),\n",
      "            (   'Low', '510050.SS'),\n",
      "            (  'Open', '510050.SS'),\n",
      "            ('Volume', '510050.SS')],\n",
      "           names=['Price', 'Ticker'])\n"
     ]
    }
   ],
   "source": [
    "print(df.columns)   \n"
   ]
  },
  {
   "cell_type": "code",
   "execution_count": 6,
   "id": "3ec3b1ab-662e-4493-a638-4932fd073e74",
   "metadata": {},
   "outputs": [
    {
     "name": "stdout",
     "output_type": "stream",
     "text": [
      "Historical Volatility (SSE 50ETF): 0.14\n"
     ]
    }
   ],
   "source": [
    "import numpy as np\n",
    "\n",
    "# close price\n",
    "df_close = df['Close']['510050.SS']\n",
    "\n",
    "# Calculating yields\n",
    "df_close = df_close.dropna()  \n",
    "returns = df_close.pct_change()\n",
    "\n",
    "# Historical Volatility(year)\n",
    "hv = np.std(returns) * np.sqrt(252)\n",
    "print(f\"Historical Volatility (SSE 50ETF): {hv:.2f}\")\n"
   ]
  },
  {
   "cell_type": "code",
   "execution_count": 8,
   "id": "4a116fd5-b43b-4016-83c3-a39c4c52e804",
   "metadata": {},
   "outputs": [
    {
     "name": "stdout",
     "output_type": "stream",
     "text": [
      "        ts_code                       name call_put  exercise_price\n",
      "0   10009314.SH   华泰柏瑞沪深300ETF期权2512认沽4.40        P            4.40\n",
      "1   10009257.SH     南方中证500ETF期权2512认购5.75        C            5.75\n",
      "2   10009250.SH   华泰柏瑞沪深300ETF期权2512认沽4.10        P            4.10\n",
      "3   10009222.SH      华夏上证50ETF期权2512认购2.75        C            2.75\n",
      "4   10009285.SH   华夏上证科创板50ETF期权2512认沽1.10        P            1.10\n",
      "5   10009246.SH   华泰柏瑞沪深300ETF期权2512认沽3.70        P            3.70\n",
      "6   10009278.SH   华夏上证科创板50ETF期权2512认购1.20        C            1.20\n",
      "7   10009232.SH      华夏上证50ETF期权2512认沽2.80        P            2.80\n",
      "8   10009221.SH      华夏上证50ETF期权2512认购2.70        C            2.70\n",
      "9   10009291.SH  易方达上证科创板50ETF期权2512认购0.95        C            0.95\n",
      "10  10009297.SH  易方达上证科创板50ETF期权2512认购1.25        C            1.25\n",
      "11  10009270.SH     南方中证500ETF期权2512认沽6.75        P            6.75\n",
      "12  10009279.SH   华夏上证科创板50ETF期权2512认购1.25        C            1.25\n",
      "13  10009280.SH   华夏上证科创板50ETF期权2512认沽0.85        P            0.85\n",
      "14  10009296.SH  易方达上证科创板50ETF期权2512认购1.20        C            1.20\n",
      "15  10009243.SH   华泰柏瑞沪深300ETF期权2512认购4.30        C            4.30\n",
      "16  10009268.SH     南方中证500ETF期权2512认沽6.25        P            6.25\n",
      "17  10009294.SH  易方达上证科创板50ETF期权2512认购1.10        C            1.10\n",
      "18  10009238.SH   华泰柏瑞沪深300ETF期权2512认购3.80        C            3.80\n",
      "19  10009289.SH  易方达上证科创板50ETF期权2512认购0.85        C            0.85\n"
     ]
    }
   ],
   "source": [
    "df_options = pro.opt_basic(exchange='SSE')\n",
    "print(df_options[['ts_code', 'name', 'call_put', 'exercise_price']].head(20))  \n"
   ]
  },
  {
   "cell_type": "code",
   "execution_count": 9,
   "id": "c201777b-8934-4d1e-a7d3-67394bca1436",
   "metadata": {},
   "outputs": [
    {
     "name": "stdout",
     "output_type": "stream",
     "text": [
      "          ts_code                   name call_put  exercise_price\n",
      "3     10009222.SH  华夏上证50ETF期权2512认购2.75        C            2.75\n",
      "46    10009231.SH  华夏上证50ETF期权2512认沽2.75        P            2.75\n",
      "148   10008800.SH  华夏上证50ETF期权2509认购2.75        C            2.75\n",
      "190   10008809.SH  华夏上证50ETF期权2509认沽2.75        P            2.75\n",
      "271   10009336.SH  华夏上证50ETF期权2507认沽2.75        P            2.75\n",
      "...           ...                    ...      ...             ...\n",
      "9349  10000116.SH  华夏上证50ETF期权1505认沽2.75        P            2.75\n",
      "9355  10000091.SH  华夏上证50ETF期权1504认购2.75        C            2.75\n",
      "9375  10000092.SH  华夏上证50ETF期权1504认沽2.75        P            2.75\n",
      "9398  10000090.SH  华夏上证50ETF期权1503认沽2.75        P            2.75\n",
      "9410  10000089.SH  华夏上证50ETF期权1503认购2.75        C            2.75\n",
      "\n",
      "[168 rows x 4 columns]\n"
     ]
    }
   ],
   "source": [
    "df_options = pro.opt_basic(exchange='SSE')\n",
    "df_strike = df_options[df_options['exercise_price'] == 2.75]\n",
    "print(df_strike[['ts_code', 'name', 'call_put', 'exercise_price']])\n"
   ]
  },
  {
   "cell_type": "markdown",
   "id": "265ad062-5610-4e4b-9f72-ea0caf35cf15",
   "metadata": {},
   "source": [
    "## Check different strategies"
   ]
  },
  {
   "cell_type": "markdown",
   "id": "773a357e-0f7a-40cb-b23b-4b50f826f101",
   "metadata": {},
   "source": [
    "# Call and Put"
   ]
  },
  {
   "cell_type": "code",
   "execution_count": 10,
   "id": "2c23ba7d-afe5-4992-880b-827f4d1beae8",
   "metadata": {},
   "outputs": [
    {
     "name": "stdout",
     "output_type": "stream",
     "text": [
      "Premium for Call (2.75): 0.1285\n",
      "Premium for Put (2.75): 0.1187\n"
     ]
    }
   ],
   "source": [
    "premium_call = pro.opt_daily(ts_code='10009222.SH', trade_date='20250613')['close'].values[0]\n",
    "premium_put = pro.opt_daily(ts_code='10009231.SH', trade_date='20250613')['close'].values[0]\n",
    "\n",
    "print(f\"Premium for Call (2.75): {premium_call}\")\n",
    "print(f\"Premium for Put (2.75): {premium_put}\")\n"
   ]
  },
  {
   "cell_type": "code",
   "execution_count": null,
   "id": "0e05dae5-5689-4fd2-96bc-83f32c03f85b",
   "metadata": {},
   "outputs": [],
   "source": [
    "# strategy params\n",
    "K = 2.75  \n",
    "net_premium = 0.1285 + 0.1187  \n",
    "scenarios = {'Bull': 2.90, 'Base': 2.75, 'Bear': 2.40}\n",
    "probabilities = {'Bull': 0.20, 'Base': 0.50, 'Bear': 0.30}\n",
    "\n",
    "# payoffs\n",
    "payoffs = {}\n",
    "for name, S in scenarios.items():\n",
    "    payoffs[name] = max(S - K, 0) + max(K - S, 0) - net_premium\n",
    "    print(f\"{name} scenario (Price={S}): Payoff = {payoffs[name]:.3f} ¥\")\n",
    "\n",
    "# expected_payoff\n",
    "expected_payoff = sum(probabilities[name] * payoffs[name] for name in scenarios)\n",
    "print(f\"\\nExpected Payoff: {expected_payoff:.3f} ¥\")"
   ]
  },
  {
   "cell_type": "markdown",
   "id": "c97105e6-70ac-4390-a172-a727cb1da659",
   "metadata": {},
   "source": [
    "# Long Call and Long Put"
   ]
  },
  {
   "cell_type": "code",
   "execution_count": 12,
   "id": "1d17e070-c5a3-4abf-94b5-c3bc54b7f653",
   "metadata": {},
   "outputs": [
    {
     "name": "stdout",
     "output_type": "stream",
     "text": [
      "Bull scenario (Price=2.9): Call Payoff = 0.021 ¥ | Put Payoff = -0.119 ¥\n",
      "Base scenario (Price=2.75): Call Payoff = -0.129 ¥ | Put Payoff = -0.119 ¥\n",
      "Bear scenario (Price=2.4): Call Payoff = -0.129 ¥ | Put Payoff = 0.231 ¥\n",
      "\n",
      "Expected Payoff for Long Call: -0.099 ¥\n",
      "Expected Payoff for Long Put: -0.014 ¥\n"
     ]
    }
   ],
   "source": [
    "# strategy params\n",
    "K = 2.75  \n",
    "premium_call = 0.1285  \n",
    "premium_put = 0.1187  \n",
    "scenarios = {'Bull': 2.90, 'Base': 2.75, 'Bear': 2.40}\n",
    "probabilities = {'Bull': 0.20, 'Base': 0.50, 'Bear': 0.30}\n",
    "\n",
    "#  payoffs\n",
    "payoffs_call = {}\n",
    "payoffs_put = {}\n",
    "\n",
    "for name, S in scenarios.items():\n",
    "    payoffs_call[name] = max(S - K, 0) - premium_call\n",
    "    payoffs_put[name] = max(K - S, 0) - premium_put\n",
    "    print(f\"{name} scenario (Price={S}): Call Payoff = {payoffs_call[name]:.3f} ¥ | Put Payoff = {payoffs_put[name]:.3f} ¥\")\n",
    "\n",
    "# expected_payoff\n",
    "expected_call = sum(probabilities[name] * payoffs_call[name] for name in scenarios)\n",
    "expected_put = sum(probabilities[name] * payoffs_put[name] for name in scenarios)\n",
    "\n",
    "print(f\"\\nExpected Payoff for Long Call: {expected_call:.3f} ¥\")\n",
    "print(f\"Expected Payoff for Long Put: {expected_put:.3f} ¥\")"
   ]
  },
  {
   "cell_type": "markdown",
   "id": "34739913-3644-4bcb-8772-d2486c288210",
   "metadata": {},
   "source": [
    "## Check volatility"
   ]
  },
  {
   "cell_type": "code",
   "execution_count": 14,
   "id": "e8212d0b-63d5-4553-b4fb-652f002e8de9",
   "metadata": {},
   "outputs": [
    {
     "name": "stdout",
     "output_type": "stream",
     "text": [
      "EWMA Volatility: 0.078\n"
     ]
    }
   ],
   "source": [
    "import numpy as np\n",
    "import pandas as pd\n",
    "\n",
    "df_close = df['Close']['510050.SS'].dropna()\n",
    "\n",
    "# Calculating logarithmic returns\n",
    "df_close['returns'] = np.log(df_close / df_close.shift(1))\n",
    "\n",
    "# EWMA volatility\n",
    "lambda_ = 0.94  \n",
    "ewma_volatility = df_close['returns'].ewm(span=20).std() * np.sqrt(252)\n",
    "\n",
    "print(f\"EWMA Volatility: {ewma_volatility.iloc[-1]:.3f}\")"
   ]
  },
  {
   "cell_type": "code",
   "execution_count": 15,
   "id": "3e2ea1a1-8e3e-44af-a2d3-c3768e8554b9",
   "metadata": {},
   "outputs": [
    {
     "name": "stdout",
     "output_type": "stream",
     "text": [
      "Empty DataFrame\n",
      "Columns: [ts_code, close]\n",
      "Index: []\n"
     ]
    }
   ],
   "source": [
    "df_put_240 = pro.opt_daily(ts_code='TS_CODE_FOR_PUT_2.40', trade_date='20250613')\n",
    "print(df_put_240[['ts_code', 'close']])\n"
   ]
  },
  {
   "cell_type": "code",
   "execution_count": 16,
   "id": "a7f6f1a7-2aa4-46d8-a338-9c3a6fc6464d",
   "metadata": {},
   "outputs": [
    {
     "name": "stdout",
     "output_type": "stream",
     "text": [
      "        ts_code  exercise_price\n",
      "0   10009314.SH            4.40\n",
      "2   10009250.SH            4.10\n",
      "4   10009285.SH            1.10\n",
      "5   10009246.SH            3.70\n",
      "7   10009232.SH            2.80\n",
      "11  10009270.SH            6.75\n",
      "13  10009280.SH            0.85\n",
      "16  10009268.SH            6.25\n",
      "20  10009300.SH            0.95\n",
      "21  10009287.SH            1.20\n",
      "22  10009304.SH            1.15\n",
      "24  10009248.SH            3.90\n",
      "25  10009267.SH            6.00\n",
      "26  10009281.SH            0.90\n",
      "27  10009301.SH            1.00\n",
      "28  10009228.SH            2.60\n",
      "30  10009244.SH            3.50\n",
      "31  10009305.SH            1.20\n",
      "32  10009312.SH            2.95\n",
      "33  10009262.SH            4.90\n"
     ]
    }
   ],
   "source": [
    "df_puts = pro.opt_basic(exchange='SSE')\n",
    "print(df_puts[df_puts['call_put'] == 'P'][['ts_code', 'exercise_price']].head(20))\n"
   ]
  },
  {
   "cell_type": "code",
   "execution_count": 17,
   "id": "ac45106d-ec5a-47d9-addd-bf8ba07bd5c4",
   "metadata": {},
   "outputs": [
    {
     "name": "stdout",
     "output_type": "stream",
     "text": [
      "Premium for Put 2.60: 0.0577\n"
     ]
    }
   ],
   "source": [
    "premium_put_260 = pro.opt_daily(ts_code='10009228.SH', trade_date='20250613')['close'].values[0]\n",
    "print(f\"Premium for Put 2.60: {premium_put_260}\")\n"
   ]
  },
  {
   "cell_type": "code",
   "execution_count": 18,
   "id": "c82995f2-7601-48bf-9aa7-751d1762aff1",
   "metadata": {},
   "outputs": [
    {
     "name": "stdout",
     "output_type": "stream",
     "text": [
      "Premium for Put 2.80: 0.1463\n",
      "Premium for Call 2.95: 0.2425\n"
     ]
    }
   ],
   "source": [
    "premium_put_280 = pro.opt_daily(ts_code='10009232.SH', trade_date='20250613')['close'].values[0]\n",
    "premium_call_295 = pro.opt_daily(ts_code='10009312.SH', trade_date='20250613')['close'].values[0]\n",
    "\n",
    "print(f\"Premium for Put 2.80: {premium_put_280}\")\n",
    "print(f\"Premium for Call 2.95: {premium_call_295}\")\n"
   ]
  },
  {
   "cell_type": "markdown",
   "id": "b40b141d-08a4-44df-866b-c91b26310674",
   "metadata": {},
   "source": [
    "# Strangle and Bear spread"
   ]
  },
  {
   "cell_type": "code",
   "execution_count": 19,
   "id": "5b8b2c15-8bdf-4aeb-bd63-bc367b843df2",
   "metadata": {},
   "outputs": [
    {
     "name": "stdout",
     "output_type": "stream",
     "text": [
      "Bull scenario (Price=3.0): Bear Spread Payoff = -0.061 ¥\n",
      "Base scenario (Price=2.75): Bear Spread Payoff = -0.061 ¥\n",
      "Bear scenario (Price=2.4): Bear Spread Payoff = 0.089 ¥\n",
      "\n",
      "Expected Payoff for Bear Spread: -0.016 ¥\n",
      "Bull scenario (Price=3.0): Strangle Payoff = -0.339 ¥\n",
      "Base scenario (Price=2.75): Strangle Payoff = -0.339 ¥\n",
      "Bear scenario (Price=2.4): Strangle Payoff = 0.011 ¥\n",
      "\n",
      "Expected Payoff for Strangle: -0.234 ¥\n"
     ]
    }
   ],
   "source": [
    "import numpy as np\n",
    "\n",
    "# Strategy parameters\n",
    "K_bear_upper = 2.75\n",
    "K_bear_lower = 2.60\n",
    "premium_bear = 0.061\n",
    "max_profit_bear = K_bear_upper - K_bear_lower - premium_bear\n",
    "\n",
    "K_strangle_call = 2.95\n",
    "K_strangle_put = 2.80\n",
    "premium_strangle = 0.3888\n",
    "\n",
    "# Market scenarios\n",
    "scenarios = {'Bull': 3.00, 'Base': 2.75, 'Bear': 2.40}\n",
    "probabilities = {'Bull': 0.20, 'Base': 0.50, 'Bear': 0.30}\n",
    "\n",
    "# Bear Spread Payoff Calculation\n",
    "payoffs_bear = {}\n",
    "for name, S in scenarios.items():\n",
    "    put_275 = max(K_bear_upper - S, 0)  # Payoff from 2.75 Put\n",
    "    put_260 = max(K_bear_lower - S, 0)  # Payoff from 2.60 Put\n",
    "    payoffs_bear[name] = put_275 - put_260 - premium_bear\n",
    "    print(f\"{name} scenario (Price={S}): Bear Spread Payoff = {payoffs_bear[name]:.3f} ¥\")\n",
    "\n",
    "# Expected payoff for Bear Spread\n",
    "expected_bear = sum(probabilities[name] * payoffs_bear[name] for name in scenarios)\n",
    "print(f\"\\nExpected Payoff for Bear Spread: {expected_bear:.3f} ¥\")\n",
    "\n",
    "# Strangle Payoff Calculation\n",
    "payoffs_strangle = {}\n",
    "for name, S in scenarios.items():\n",
    "    call_payoff = max(S - K_strangle_call, 0)\n",
    "    put_payoff = max(K_strangle_put - S, 0)\n",
    "    payoffs_strangle[name] = call_payoff + put_payoff - premium_strangle\n",
    "    print(f\"{name} scenario (Price={S}): Strangle Payoff = {payoffs_strangle[name]:.3f} ¥\")\n",
    "\n",
    "# Expected payoff for Strangle\n",
    "expected_strangle = sum(probabilities[name] * payoffs_strangle[name] for name in scenarios)\n",
    "print(f\"\\nExpected Payoff for Strangle: {expected_strangle:.3f} ¥\")\n",
    "\n"
   ]
  },
  {
   "cell_type": "markdown",
   "id": "3cf0cae0-9b00-43b9-9b62-41fa7d069784",
   "metadata": {},
   "source": [
    "# Long Call and Long put"
   ]
  },
  {
   "cell_type": "code",
   "execution_count": 20,
   "id": "685ba9d8-7e67-427a-a464-ac5d73035a4e",
   "metadata": {},
   "outputs": [
    {
     "name": "stdout",
     "output_type": "stream",
     "text": [
      "Bull scenario (Price=3.0): Long Call Payoff = 0.121 ¥\n",
      "Base scenario (Price=2.75): Long Call Payoff = -0.129 ¥\n",
      "Bear scenario (Price=2.4): Long Call Payoff = -0.129 ¥\n",
      "\n",
      "Expected Payoff for Long Call: -0.079 ¥\n"
     ]
    }
   ],
   "source": [
    "import numpy as np\n",
    "\n",
    "K_call = 2.75\n",
    "premium_call = 0.1285\n",
    "\n",
    "# Market scenarios\n",
    "scenarios = {'Bull': 3.00, 'Base': 2.75, 'Bear': 2.40}\n",
    "probabilities = {'Bull': 0.20, 'Base': 0.50, 'Bear': 0.30}\n",
    "\n",
    "# Payoff calculation for Long Call\n",
    "payoffs_call = {}\n",
    "for name, S in scenarios.items():\n",
    "    payoffs_call[name] = max(S - K_call, 0) - premium_call\n",
    "    print(f\"{name} scenario (Price={S}): Long Call Payoff = {payoffs_call[name]:.3f} ¥\")\n",
    "\n",
    "# Expected payoff\n",
    "expected_call = sum(probabilities[name] * payoffs_call[name] for name in scenarios)\n",
    "print(f\"\\nExpected Payoff for Long Call: {expected_call:.3f} ¥\")\n"
   ]
  },
  {
   "cell_type": "code",
   "execution_count": 21,
   "id": "c48ecb58-6231-4a0f-bbc9-3e01470cee87",
   "metadata": {},
   "outputs": [
    {
     "name": "stdout",
     "output_type": "stream",
     "text": [
      "Bull scenario (Price=3.0): Long Put Payoff = -0.119 ¥\n",
      "Base scenario (Price=2.75): Long Put Payoff = -0.119 ¥\n",
      "Bear scenario (Price=2.4): Long Put Payoff = 0.231 ¥\n",
      "\n",
      "Expected Payoff for Long Put: -0.014 ¥\n"
     ]
    }
   ],
   "source": [
    "K_put = 2.75\n",
    "premium_put = 0.1187\n",
    "\n",
    "#  payoffs  Long Put\n",
    "payoffs_put = {}\n",
    "for name, S in scenarios.items():\n",
    "    payoffs_put[name] = max(K_put - S, 0) - premium_put\n",
    "    print(f\"{name} scenario (Price={S}): Long Put Payoff = {payoffs_put[name]:.3f} ¥\")\n",
    "\n",
    "# excpected payoff\n",
    "expected_put = sum(probabilities[name] * payoffs_put[name] for name in scenarios)\n",
    "print(f\"\\nExpected Payoff for Long Put: {expected_put:.3f} ¥\")\n"
   ]
  },
  {
   "cell_type": "code",
   "execution_count": 22,
   "id": "611d9c76-2a8e-4344-8e03-c10eff241c20",
   "metadata": {},
   "outputs": [
    {
     "name": "stdout",
     "output_type": "stream",
     "text": [
      "          ts_code  exercise_price\n",
      "1490  10007828.SH            0.45\n",
      "969   10007830.SH            0.45\n",
      "1946  10007826.SH            0.45\n",
      "890   10007852.SH            0.45\n",
      "1428  10007850.SH            0.45\n",
      "...           ...             ...\n",
      "4482  10005164.SH            7.50\n",
      "4397  10005236.SH            7.50\n",
      "1442  10008378.SH            7.50\n",
      "1640  10008376.SH            7.50\n",
      "4669  10005162.SH            7.50\n",
      "\n",
      "[4709 rows x 2 columns]\n"
     ]
    }
   ],
   "source": [
    "df_puts = pro.opt_basic(exchange='SSE')\n",
    "print(df_puts[df_puts['call_put'] == 'P'][['ts_code', 'exercise_price']].sort_values('exercise_price'))\n"
   ]
  },
  {
   "cell_type": "code",
   "execution_count": 23,
   "id": "16ebc1ed-1b6d-47e9-8c85-b6f3e34a2562",
   "metadata": {},
   "outputs": [
    {
     "name": "stdout",
     "output_type": "stream",
     "text": [
      "          ts_code  exercise_price\n",
      "7058  10002403.SH             2.4\n",
      "8089  10001388.SH             2.4\n",
      "8058  10001357.SH             2.4\n",
      "2189  10007463.SH             2.4\n",
      "8023  10001454.SH             2.4\n",
      "...           ...             ...\n",
      "7689  10001604.SH             2.6\n",
      "2777  10006923.SH             2.6\n",
      "740   10008941.SH             2.6\n",
      "7939  10001550.SH             2.6\n",
      "28    10009228.SH             2.6\n",
      "\n",
      "[1018 rows x 2 columns]\n"
     ]
    }
   ],
   "source": [
    "df_filtered = df_puts[(df_puts['exercise_price'] >= 2.40) & (df_puts['exercise_price'] <= 2.60)]\n",
    "print(df_filtered[['ts_code', 'exercise_price']].sort_values('exercise_price'))\n"
   ]
  },
  {
   "cell_type": "code",
   "execution_count": 25,
   "id": "1697b474-d1dc-4699-b9b1-cefc991c4481",
   "metadata": {},
   "outputs": [
    {
     "name": "stdout",
     "output_type": "stream",
     "text": [
      "   trade_date   close\n",
      "56   20200401  0.0481\n",
      "57   20200331  0.0510\n",
      "58   20200330  0.0554\n",
      "59   20200327  0.0561\n",
      "60   20200326  0.0597\n",
      "61   20200325  0.0598\n",
      "62   20200324  0.0752\n",
      "63   20200323  0.1049\n",
      "64   20200320  0.0699\n",
      "65   20200319  0.1014\n"
     ]
    }
   ],
   "source": [
    "df_test = pro.opt_daily(ts_code='10002403.SH')\n",
    "print(df_test[['trade_date', 'close']].tail(10))  \n"
   ]
  },
  {
   "cell_type": "code",
   "execution_count": 26,
   "id": "28ce8495-e60d-4ec2-b0cf-28f9b60db044",
   "metadata": {},
   "outputs": [
    {
     "name": "stdout",
     "output_type": "stream",
     "text": [
      "       ts_code   close\n",
      "0  10009228.SH  0.0577\n"
     ]
    }
   ],
   "source": [
    "df_put_260 = pro.opt_daily(ts_code='10009228.SH', trade_date='20250613')\n",
    "print(df_put_260[['ts_code', 'close']])\n"
   ]
  },
  {
   "cell_type": "markdown",
   "id": "8e82404f-339b-4d2e-a710-2d6e4feb04c3",
   "metadata": {},
   "source": [
    "# long put new strike"
   ]
  },
  {
   "cell_type": "code",
   "execution_count": 30,
   "id": "68e3ccdd-f3cf-426b-860a-b06d49613dc5",
   "metadata": {},
   "outputs": [
    {
     "name": "stdout",
     "output_type": "stream",
     "text": [
      "Bull scenario (Price=3.0): Long Put Payoff = -0.058 ¥\n",
      "Base scenario (Price=2.75): Long Put Payoff = -0.058 ¥\n",
      "Bear scenario (Price=2.4): Long Put Payoff = 0.142 ¥\n",
      "\n",
      "Expected Payoff for Long Put: 0.002 ¥\n"
     ]
    }
   ],
   "source": [
    "import numpy as np\n",
    "\n",
    "K_put = 2.60  # Новый страйк\n",
    "premium_put = 0.0577  # Актуальная премия\n",
    "\n",
    "# Рыночные сценарии\n",
    "scenarios = {'Bull': 3.00, 'Base': 2.75, 'Bear': 2.40}\n",
    "probabilities = {'Bull': 0.20, 'Base': 0.50, 'Bear': 0.30}\n",
    "\n",
    "# Расчет payoffs\n",
    "payoffs_put = {}\n",
    "for name, S in scenarios.items():\n",
    "    payoffs_put[name] = max(K_put - S, 0) - premium_put\n",
    "    print(f\"{name} scenario (Price={S}): Long Put Payoff = {payoffs_put[name]:.3f} ¥\")\n",
    "\n",
    "# Ожидаемый payoff\n",
    "expected_put = sum(probabilities[name] * payoffs_put[name] for name in scenarios)\n",
    "print(f\"\\nExpected Payoff for Long Put: {expected_put:.3f} ¥\")\n"
   ]
  },
  {
   "cell_type": "markdown",
   "id": "659a5f08-013f-4e64-916d-320d0603ef9b",
   "metadata": {},
   "source": [
    "# 2. FINAL CODE"
   ]
  },
  {
   "cell_type": "code",
   "execution_count": 37,
   "id": "90f5e961-18e3-49b3-8f9e-ba005f4d4501",
   "metadata": {},
   "outputs": [
    {
     "data": {
      "image/png": "[encoded data removed]",
      "text/plain": [
       "<Figure size 1600x600 with 2 Axes>"
      ]
     },
     "metadata": {},
     "output_type": "display_data"
    },
    {
     "name": "stdout",
     "output_type": "stream",
     "text": [
      "=== STRATEGY ANALYSIS ===\n",
      "\n",
      "1. BEAR PUT SPREAD (Buy 2.75 Put, Sell 2.40 Put):\n",
      "   Net Premium Cost: 0.050 ¥\n",
      "   Bull scenario (2.9¥): -0.050 ¥\n",
      "   Base scenario (2.75¥): -0.050 ¥\n",
      "   Bear scenario (2.4¥): 0.300 ¥\n",
      "   Expected Payoff: 0.055 ¥\n",
      "\n",
      "2. LONG STRADDLE (Buy Call + Put at 2.75):\n",
      "   Total Premium Cost: 0.120 ¥\n",
      "   Bull scenario (2.9¥): 0.030 ¥\n",
      "   Base scenario (2.75¥): -0.120 ¥\n",
      "   Bear scenario (2.4¥): 0.230 ¥\n",
      "   Expected Payoff: 0.015 ¥\n",
      "\n",
      "=== CONCLUSION ===\n",
      "Bear Put Spread: Limited risk, benefits from downside protection\n",
      "Long Straddle: High premium cost, requires significant volatility\n",
      "Both strategies show negative expected payoffs in current low-volatility environment\n",
      "Recommendation: Remain in cash until volatility increases or clear trend emerges\n"
     ]
    }
   ],
   "source": [
    "import numpy as np\n",
    "import matplotlib.pyplot as plt\n",
    "\n",
    "# Parameters for visualization\n",
    "S = np.linspace(2.0, 3.2, 100)  # Range of underlying asset prices\n",
    "\n",
    "# Scenarios for analysis\n",
    "scenarios = {'Bull': 2.9, 'Base': 2.75, 'Bear': 2.4}\n",
    "probabilities = {'Bull': 0.20, 'Base': 0.50, 'Bear': 0.30}\n",
    "\n",
    "# === STRATEGY 1: BEAR PUT SPREAD ===\n",
    "# Buy Put 2.75, Sell Put 2.40\n",
    "K1_bear = 2.75  # Long Put strike price\n",
    "K2_bear = 2.40  # Short Put strike price\n",
    "premium_long_put = 0.08   # Approximate premium for buying Put 2.75\n",
    "premium_short_put = 0.03  # Approximate premium for selling Put 2.40\n",
    "net_premium_bear = premium_long_put - premium_short_put\n",
    "\n",
    "# Calculate payoff for Bear Put Spread\n",
    "payoff_bear = np.maximum(K1_bear - S, 0) - np.maximum(K2_bear - S, 0) - net_premium_bear\n",
    "\n",
    "# === STRATEGY 2: LONG STRADDLE ===\n",
    "# Buy Call 2.75 + Buy Put 2.75\n",
    "K_straddle = 2.75\n",
    "premium_call = 0.04   # Approximate premium for Call 2.75\n",
    "premium_put = 0.08    # Approximate premium for Put 2.75\n",
    "total_premium_straddle = premium_call + premium_put\n",
    "\n",
    "# Calculate payoff for Long Straddle\n",
    "payoff_straddle = np.maximum(S - K_straddle, 0) + np.maximum(K_straddle - S, 0) - total_premium_straddle\n",
    "\n",
    "# === VISUALIZATION ===\n",
    "fig, (ax1, ax2) = plt.subplots(1, 2, figsize=(16, 6))\n",
    "\n",
    "# Plot 1: Bear Put Spread\n",
    "ax1.plot(S, payoff_bear, label='Bear Put Spread Payoff', color='#1f77b4', linewidth=1.5)\n",
    "ax1.axhline(0, color='black', linestyle='--', linewidth=0.8, alpha=0.5)\n",
    "ax1.axvline(K1_bear, color='gray', linestyle='--', label=f'Long Put = {K1_bear}¥', linewidth=0.8, alpha=0.7)\n",
    "ax1.axvline(K2_bear, color='#ff7f0e', linestyle='--', label=f'Short Put = {K2_bear}¥', linewidth=0.8, alpha=0.7)\n",
    "\n",
    "# Mark scenarios on the plot\n",
    "for name, price in scenarios.items():\n",
    "    payoff_val = max(K1_bear - price, 0) - max(K2_bear - price, 0) - net_premium_bear\n",
    "    ax1.plot(price, payoff_val, 'o', color='black', markersize=6)\n",
    "\n",
    "ax1.set_title('Bear Put Spread Payoff', fontsize=14, pad=10)\n",
    "ax1.set_xlabel('SSE 50ETF Price (¥)', fontsize=12)\n",
    "ax1.set_ylabel('Profit/Loss (¥)', fontsize=12)\n",
    "ax1.legend(fontsize=10, loc='best', frameon=False)\n",
    "ax1.grid(True, linestyle='--', alpha=0.3)\n",
    "ax1.spines['top'].set_visible(False)\n",
    "ax1.spines['right'].set_visible(False)\n",
    "ax1.spines['left'].set_linewidth(0.8)\n",
    "ax1.spines['bottom'].set_linewidth(0.8)\n",
    "\n",
    "# Plot 2: Long Straddle\n",
    "ax2.plot(S, payoff_straddle, label='Long Straddle Payoff', color='#1f77b4', linewidth=1.5)\n",
    "ax2.axhline(0, color='black', linestyle='--', linewidth=0.8, alpha=0.5)\n",
    "ax2.axvline(K_straddle, color='#ff7f0e', linestyle='--', label=f'Strike = {K_straddle}¥', linewidth=0.8, alpha=0.7)\n",
    "\n",
    "# Mark scenarios on the plot\n",
    "for name, price in scenarios.items():\n",
    "    payoff_val = max(price - K_straddle, 0) + max(K_straddle - price, 0) - total_premium_straddle\n",
    "    ax2.plot(price, payoff_val, 'o', color='black', markersize=6)\n",
    "\n",
    "ax2.set_title('Long Straddle Payoff', fontsize=14, pad=10)\n",
    "ax2.set_xlabel('SSE 50ETF Price (¥)', fontsize=12)\n",
    "ax2.set_ylabel('Profit/Loss (¥)', fontsize=12)\n",
    "ax2.legend(fontsize=10, loc='best', frameon=False)\n",
    "ax2.grid(True, linestyle='--', alpha=0.3)\n",
    "ax2.spines['top'].set_visible(False)\n",
    "ax2.spines['right'].set_visible(False)\n",
    "ax2.spines['left'].set_linewidth(0.8)\n",
    "ax2.spines['bottom'].set_linewidth(0.8)\n",
    "\n",
    "plt.tight_layout()\n",
    "plt.show()\n",
    "\n",
    "# === CALCULATION OF EXPECTED PAYOFFS ===\n",
    "print(\"=== STRATEGY ANALYSIS ===\\n\")\n",
    "\n",
    "print(\"1. BEAR PUT SPREAD (Buy 2.75 Put, Sell 2.40 Put):\")\n",
    "print(f\"   Net Premium Cost: {net_premium_bear:.3f} ¥\")\n",
    "bear_expected = 0\n",
    "for name, price in scenarios.items():\n",
    "    payoff_val = max(K1_bear - price, 0) - max(K2_bear - price, 0) - net_premium_bear\n",
    "    bear_expected += probabilities[name] * payoff_val\n",
    "    print(f\"   {name} scenario ({price}¥): {payoff_val:.3f} ¥\")\n",
    "print(f\"   Expected Payoff: {bear_expected:.3f} ¥\\n\")\n",
    "\n",
    "print(\"2. LONG STRADDLE (Buy Call + Put at 2.75):\")\n",
    "print(f\"   Total Premium Cost: {total_premium_straddle:.3f} ¥\")\n",
    "straddle_expected = 0\n",
    "for name, price in scenarios.items():\n",
    "    payoff_val = max(price - K_straddle, 0) + max(K_straddle - price, 0) - total_premium_straddle\n",
    "    straddle_expected += probabilities[name] * payoff_val\n",
    "    print(f\"   {name} scenario ({price}¥): {payoff_val:.3f} ¥\")\n",
    "print(f\"   Expected Payoff: {straddle_expected:.3f} ¥\\n\")\n",
    "\n",
    "print(\"=== CONCLUSION ===\")\n",
    "print(\"Bear Put Spread: Limited risk, benefits from downside protection\")\n",
    "print(\"Long Straddle: High premium cost, requires significant volatility\")\n",
    "print(\"Both strategies show negative expected payoffs in current low-volatility environment\")\n",
    "print(\"Recommendation: Remain in cash until volatility increases or clear trend emerges\")"
   ]
  },
  {
   "cell_type": "code",
   "execution_count": null,
   "id": "de46fa01-41d3-4084-a6e3-9df2ff02e8d2",
   "metadata": {},
   "outputs": [],
   "source": []
  },
  {
   "cell_type": "code",
   "execution_count": null,
   "id": "ef71be0c-62e6-4f5a-826d-f2b95e90d65b",
   "metadata": {},
   "outputs": [],
   "source": []
  }
 ],
 "metadata": {
  "kernelspec": {
   "display_name": "Python 3 (ipykernel)",
   "language": "python",
   "name": "python3"
  },
  "language_info": {
   "codemirror_mode": {
    "name": "ipython",
    "version": 3
   },
   "file_extension": ".py",
   "mimetype": "text/x-python",
   "name": "python",
   "nbconvert_exporter": "python",
   "pygments_lexer": "ipython3",
   "version": "3.12.0"
  }
 },
 "nbformat": 4,
 "nbformat_minor": 5
}
